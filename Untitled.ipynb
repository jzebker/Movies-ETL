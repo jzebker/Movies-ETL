{
 "cells": [
  {
   "cell_type": "code",
   "execution_count": 1,
   "id": "60842e45",
   "metadata": {},
   "outputs": [],
   "source": [
    "import pandas as pd\n",
    "import json\n",
    "file_dir = '/Users/jacobzebker/Desktop/Movies-ETL/'"
   ]
  },
  {
   "cell_type": "code",
   "execution_count": 13,
   "id": "09483243",
   "metadata": {},
   "outputs": [],
   "source": [
    "# 1. Add the clean movie function that takes in the argument, \"movie\".\n",
    "def clean_movie(movie):\n",
    "    movie = dict(movie) #create a non-destructive copy\n",
    "    alt_titles = {}\n",
    "    # combine alternate titles into one list\n",
    "    for key in ['Also known as','Arabic','Cantonese','Chinese','French',\n",
    "                'Hangul','Hebrew','Hepburn','Japanese','Literally',\n",
    "                'Mandarin','McCune–Reischauer','Original title','Polish',\n",
    "                'Revised Romanization','Romanized','Russian',\n",
    "                'Simplified','Traditional','Yiddish']:\n",
    "        if key in movie:\n",
    "            alt_titles[key] = movie[key]\n",
    "            movie.pop(key)\n",
    "    if len(alt_titles) > 0:\n",
    "        movie['alt_titles'] = alt_titles\n",
    "    # merge column names\n",
    "    def change_column_name(old_name, new_name):\n",
    "        if old_name in movie:\n",
    "            movie[new_name] = movie.pop(old_name)\n",
    "    change_column_name('Adaptation by', 'Writer(s)')\n",
    "    change_column_name('Country of origin', 'Country')\n",
    "    change_column_name('Directed by', 'Director')\n",
    "    change_column_name('Distributed by', 'Distributor')\n",
    "    change_column_name('Edited by', 'Editor(s)')\n",
    "    change_column_name('Length', 'Running time')\n",
    "    change_column_name('Original release', 'Release date')\n",
    "    change_column_name('Music by', 'Composer(s)')\n",
    "    change_column_name('Produced by', 'Producer(s)')\n",
    "    change_column_name('Producer', 'Producer(s)')\n",
    "    change_column_name('Productioncompanies ', 'Production company(s)')\n",
    "    change_column_name('Productioncompany ', 'Production company(s)')\n",
    "    change_column_name('Released', 'Release Date')\n",
    "    change_column_name('Release Date', 'Release date')\n",
    "    change_column_name('Screen story by', 'Writer(s)')\n",
    "    change_column_name('Screenplay by', 'Writer(s)')\n",
    "    change_column_name('Story by', 'Writer(s)')\n",
    "    change_column_name('Theme music composer', 'Composer(s)')\n",
    "    change_column_name('Written by', 'Writer(s)')\n",
    "    \n",
    "    return movie"
   ]
  },
  {
   "cell_type": "code",
   "execution_count": 14,
   "id": "96f419b2",
   "metadata": {},
   "outputs": [],
   "source": [
    "# Read in the kaggle metadata and MovieLens ratings CSV files as Pandas DataFrames.\n",
    "kaggle_metadata = pd.read_csv(f'{file_dir}movies_metadata.csv', low_memory=False)\n",
    "ratings = pd.read_csv(f'{file_dir}ratings.csv')\n",
    "# Open and read the Wikipedia data JSON file.\n",
    "with open(f'{file_dir}/wikipedia-movies.json', mode='r') as file:\n",
    "    wiki_movies_raw = json.load(file)   \n",
    "# 3. Write a list comprehension to filter out TV shows.\n",
    "wiki_movies = [movie for movie in wiki_movies_raw\n",
    "               if ('Director' in movie or 'Directed by' in movie)\n",
    "                   and 'imdb_link' in movie\n",
    "                   and 'No. of episodes' not in movie]\n",
    "# 4. Write a list comprehension to iterate through the cleaned wiki movies list\n",
    "# and call the clean_movie function on each movie.\n",
    "clean_movies = [clean_movie(movie) for movie in wiki_movies]\n",
    "# 5. Read in the cleaned movies list from Step 4 as a DataFrame.\n",
    "wiki_movies_df = pd.DataFrame(clean_movies)"
   ]
  },
  {
   "cell_type": "code",
   "execution_count": 15,
   "id": "7165cb29",
   "metadata": {},
   "outputs": [],
   "source": [
    "#  7. Write a list comprehension to keep the columns that don't have null values from the wiki_movies_df DataFrame.\n",
    "wiki_columns_to_keep = [column for column in wiki_movies_df.columns if wiki_movies_df[column].isnull().sum() < len(wiki_movies_df)]\n",
    "wiki_movies_df = wiki_movies_df[wiki_columns_to_keep]\n",
    "# 8. Create a variable that will hold the non-null values from the “Box office” column.\n",
    "box_office = wiki_movies_df['Box office'].dropna()\n",
    "# 9. Convert the box office data created in Step 8 to string values using the lambda and join functions.\n",
    "box_office = box_office.apply(lambda x: ' '.join(x) if type(x) == list else x)\n",
    "# 10. Write a regular expression to match the six elements of \"form_one\" of the box office data.\n",
    "form_one = r'\\$\\s*\\d+\\.?\\d*\\s*[mb]illi?on'\n",
    "# 11. Write a regular expression to match the three elements of \"form_two\" of the box office data.\n",
    "form_two = r'\\$\\s*\\d{1,3}(?:[,\\.]\\d{3})+(?!\\s[mb]illion)'"
   ]
  },
  {
   "cell_type": "code",
   "execution_count": 16,
   "id": "d15e6141",
   "metadata": {},
   "outputs": [],
   "source": [
    "def parse_dollars(s):\n",
    "        # if s is not a string, return NaN\n",
    "        if type(s) != str:\n",
    "            return np.nan\n",
    "\n",
    "        # if input is of the form $###.# million\n",
    "        if re.match(r'\\$\\s*\\d+\\.?\\d*\\s*milli?on', s, flags=re.IGNORECASE):\n",
    "\n",
    "            # remove dollar sign and \" million\"\n",
    "            s = re.sub('\\$|\\s|[a-zA-Z]','', s)\n",
    "\n",
    "            # convert to float and multiply by a million\n",
    "            value = float(s) * 10**6\n",
    "\n",
    "            # return value\n",
    "            return value\n",
    "\n",
    "        # if input is of the form $###.# billion\n",
    "        elif re.match(r'\\$\\s*\\d+\\.?\\d*\\s*billi?on', s, flags=re.IGNORECASE):\n",
    "\n",
    "            # remove dollar sign and \" billion\"\n",
    "            s = re.sub('\\$|\\s|[a-zA-Z]','', s)\n",
    "\n",
    "            # convert to float and multiply by a billion\n",
    "            value = float(s) * 10**9\n",
    "\n",
    "            # return value\n",
    "            return value\n",
    "\n",
    "        # if input is of the form $###,###,###\n",
    "        elif re.match(r'\\$\\s*\\d{1,3}(?:[,\\.]\\d{3})+(?!\\s[mb]illion)', s, flags=re.IGNORECASE):\n",
    "\n",
    "            # remove dollar sign and commas\n",
    "            s = re.sub('\\$|,','', s)\n",
    "\n",
    "            # convert to float\n",
    "            value = float(s)\n",
    "\n",
    "            # return value\n",
    "            return value\n",
    "\n",
    "        # otherwise, return NaN\n",
    "        else:\n",
    "            return np.nan  "
   ]
  },
  {
   "cell_type": "code",
   "execution_count": 17,
   "id": "7dfda39a",
   "metadata": {},
   "outputs": [],
   "source": [
    "import re\n",
    "import numpy as np"
   ]
  },
  {
   "cell_type": "code",
   "execution_count": 18,
   "id": "7fb1addf",
   "metadata": {},
   "outputs": [],
   "source": [
    "# 13. Clean the box office column in the wiki_movies_df DataFrame.\n",
    "wiki_movies_df[\"box_office\"] = box_office.str.extract(f'({form_one}|{form_two})', flags=re.IGNORECASE)[0].apply(parse_dollars)\n",
    "wiki_movies_df.drop('Box office', axis=1, inplace=True)"
   ]
  },
  {
   "cell_type": "code",
   "execution_count": 19,
   "id": "7a02e264",
   "metadata": {},
   "outputs": [
    {
     "data": {
      "text/plain": [
       "['url',\n",
       " 'year',\n",
       " 'imdb_link',\n",
       " 'title',\n",
       " 'Based on',\n",
       " 'Starring',\n",
       " 'Narrated by',\n",
       " 'Cinematography',\n",
       " 'Release date',\n",
       " 'Running time',\n",
       " 'Country',\n",
       " 'Language',\n",
       " 'Budget',\n",
       " 'Director',\n",
       " 'Distributor',\n",
       " 'Editor(s)',\n",
       " 'Composer(s)',\n",
       " 'Producer(s)',\n",
       " 'Production company(s)',\n",
       " 'Writer(s)',\n",
       " 'Genre',\n",
       " 'Original language(s)',\n",
       " 'Original network',\n",
       " 'Executive producer(s)',\n",
       " 'Production location(s)',\n",
       " 'Picture format',\n",
       " 'Audio format',\n",
       " 'Voices of',\n",
       " 'Followed by',\n",
       " 'Created by',\n",
       " 'Preceded by',\n",
       " 'Suggested by',\n",
       " 'alt_titles',\n",
       " 'Recorded',\n",
       " 'Venue',\n",
       " 'Label',\n",
       " 'Animation by',\n",
       " 'Color process',\n",
       " 'box_office']"
      ]
     },
     "execution_count": 19,
     "metadata": {},
     "output_type": "execute_result"
    }
   ],
   "source": [
    "wiki_movies_df.columns.to_list()"
   ]
  },
  {
   "cell_type": "code",
   "execution_count": 20,
   "id": "8c4175f0",
   "metadata": {},
   "outputs": [
    {
     "data": {
      "text/plain": [
       "0        $20 million\n",
       "1         $6 million\n",
       "2        $35 million\n",
       "3        $12 million\n",
       "4        $25 million\n",
       "            ...     \n",
       "7070    €4.3 million\n",
       "7071     $42 million\n",
       "7072     $60 million\n",
       "7073     $20 million\n",
       "7074      $9 million\n",
       "Name: Budget, Length: 4764, dtype: object"
      ]
     },
     "execution_count": 20,
     "metadata": {},
     "output_type": "execute_result"
    }
   ],
   "source": [
    "budget = wiki_movies_df['Budget'].dropna()\n",
    "budget"
   ]
  },
  {
   "cell_type": "code",
   "execution_count": 22,
   "id": "c53f2ebf",
   "metadata": {},
   "outputs": [
    {
     "data": {
      "text/plain": [
       "0       20000000.0\n",
       "1        6000000.0\n",
       "2       35000000.0\n",
       "3       12000000.0\n",
       "4       25000000.0\n",
       "           ...    \n",
       "7071    42000000.0\n",
       "7072    60000000.0\n",
       "7073    20000000.0\n",
       "7074     9000000.0\n",
       "7075           NaN\n",
       "Name: budget, Length: 7076, dtype: float64"
      ]
     },
     "execution_count": 22,
     "metadata": {},
     "output_type": "execute_result"
    }
   ],
   "source": [
    "wiki_movies_df['budget'] = budget.str.extract(f'({form_one}|{form_two})', flags=re.IGNORECASE)[0].apply(parse_dollars)\n",
    "wiki_movies_df.drop('Budget', axis=1, inplace=True)\n",
    "wiki_movies_df['budget']"
   ]
  },
  {
   "cell_type": "code",
   "execution_count": 25,
   "id": "78c7c057",
   "metadata": {},
   "outputs": [],
   "source": [
    "release_date = wiki_movies_df['Release date'].dropna().apply(lambda x: ' '.join(x) if type(x) == list else x)\n",
    "date_form_one = r'(?:January|February|March|April|May|June|July|August|September|October|November|December)\\s[123]?\\d,\\s\\d{4}'\n",
    "date_form_two = r'\\d{4}.[01]\\d.[0123]\\d'\n",
    "date_form_three = r'(?:January|February|March|April|May|June|July|August|September|October|November|December)\\s\\d{4}'\n",
    "date_form_four = r'\\d{4}'"
   ]
  },
  {
   "cell_type": "code",
   "execution_count": 26,
   "id": "783919ba",
   "metadata": {},
   "outputs": [],
   "source": [
    "wiki_movies_df['release_date'] = pd.to_datetime(release_date.str.extract(f'({date_form_one}|{date_form_two}|{date_form_three}|{date_form_four})')[0], infer_datetime_format=True)"
   ]
  },
  {
   "cell_type": "code",
   "execution_count": 27,
   "id": "ca783a4e",
   "metadata": {},
   "outputs": [
    {
     "data": {
      "text/plain": [
       "0      1990-07-11\n",
       "1      1990-05-17\n",
       "2      1990-08-10\n",
       "3      1990-12-25\n",
       "4      1990-12-19\n",
       "          ...    \n",
       "7071   2018-12-25\n",
       "7072   2018-12-11\n",
       "7073   2018-11-08\n",
       "7074   2018-08-31\n",
       "7075   2018-12-01\n",
       "Name: release_date, Length: 7076, dtype: datetime64[ns]"
      ]
     },
     "execution_count": 27,
     "metadata": {},
     "output_type": "execute_result"
    }
   ],
   "source": [
    "wiki_movies_df['release_date']"
   ]
  },
  {
   "cell_type": "code",
   "execution_count": 28,
   "id": "0fa74b96",
   "metadata": {},
   "outputs": [],
   "source": [
    "running_time = wiki_movies_df['Running time'].dropna().apply(lambda x: ' '.join(x) if type(x) == list else x)\n",
    "running_time_extract = running_time.str.extract(r'(\\d+)\\s*ho?u?r?s?\\s*(\\d*)|(\\d+)\\s*m')\n",
    "running_time_extract = running_time_extract.apply(lambda col: pd.to_numeric(col, errors='coerce')).fillna(0)\n",
    "wiki_movies_df['running_time'] = running_time_extract.apply(lambda row: row[0]*60 + row[1] if row[2] == 0 else row[2], axis=1)\n",
    "wiki_movies_df.drop('Running time', axis=1, inplace=True)"
   ]
  },
  {
   "cell_type": "code",
   "execution_count": null,
   "id": "378ba613",
   "metadata": {},
   "outputs": [],
   "source": []
  }
 ],
 "metadata": {
  "kernelspec": {
   "display_name": "Python 3",
   "language": "python",
   "name": "python3"
  },
  "language_info": {
   "codemirror_mode": {
    "name": "ipython",
    "version": 3
   },
   "file_extension": ".py",
   "mimetype": "text/x-python",
   "name": "python",
   "nbconvert_exporter": "python",
   "pygments_lexer": "ipython3",
   "version": "3.8.8"
  }
 },
 "nbformat": 4,
 "nbformat_minor": 5
}
